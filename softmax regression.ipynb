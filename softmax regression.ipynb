{
 "cells": [
  {
   "cell_type": "code",
   "execution_count": null,
   "id": "0af68280-173f-4aca-8f0e-ecf5fb2619b9",
   "metadata": {},
   "outputs": [],
   "source": [
    "import seaborn as sns\n",
    "import numpy as np\n",
    "import pandas as pd\n",
    "import matplotlib.pyplot as plt\n",
    "from sklearn.model_selection import train_test_split \n",
    "from sklearn.linear_model import LogisticRegression\n",
    "from sklearn.preprocessing import LabelEncoder\n",
    "from sklearn.metrics import accuracy_score, confusion_matrix\n"
   ]
  },
  {
   "cell_type": "code",
   "execution_count": null,
   "id": "cbcae3f2-809d-4cb8-ae96-600ce838b3cc",
   "metadata": {},
   "outputs": [],
   "source": [
    "from tensorflow.keras.datasets import mnist\n",
    "\n",
    "(X_train, y_train), (X_test, y_test) = mnist.load_data()\n",
    "\n",
    "print(X_train.shape)  # (60000, 28, 28)\n",
    "print(y_train.shape) \n"
   ]
  },
  {
   "cell_type": "code",
   "execution_count": null,
   "id": "a27af467-17c2-4363-929f-7e5843ad763d",
   "metadata": {},
   "outputs": [],
   "source": [
    "# Flatten the 28x28 images into 784-dimensional vectors\n",
    "X_train_flat = X_train.reshape(X_train.shape[0], -1)/255.\n",
    "\n",
    "X_test_flat = X_test.reshape(X_test.shape[0], -1)/255."
   ]
  },
  {
   "cell_type": "code",
   "execution_count": null,
   "id": "1e966dca-8eb5-43c4-9cfc-cd29a4d10c61",
   "metadata": {},
   "outputs": [],
   "source": [
    "n_components = 100  \n",
    "pca = PCA(n_components=n_components)\n",
    "X_train_pca = pca.fit_transform(X_train_flat)\n",
    "X_test_pca = pca.transform(X_test_flat)"
   ]
  },
  {
   "cell_type": "code",
   "execution_count": null,
   "id": "ce2e46a2-a1de-4c66-a379-bf65cbe8dbbc",
   "metadata": {},
   "outputs": [],
   "source": [
    "# for using softmax use multinomial\n",
    "clf = LogisticRegression(multi_class='multinomial', solver='lbfgs', max_iter=1000)\n",
    "clf.fit(X_train_flat, y_train)\n",
    "y_pred = clf.predict(X_test_flat)"
   ]
  },
  {
   "cell_type": "code",
   "execution_count": null,
   "id": "5e730feb-3de5-45f6-9df6-b3cd11908d74",
   "metadata": {},
   "outputs": [],
   "source": []
  },
  {
   "cell_type": "code",
   "execution_count": null,
   "id": "9c38cbae-2af7-47bd-9efa-f34c9aa16f2e",
   "metadata": {},
   "outputs": [],
   "source": [
    "print(accuracy_score(y_test,y_pred))"
   ]
  },
  {
   "cell_type": "code",
   "execution_count": null,
   "id": "13488e7a-e7f6-4a2d-b324-b948d20dc928",
   "metadata": {},
   "outputs": [],
   "source": [
    "pd.DataFrame(confusion_matrix(y_test,y_pred))"
   ]
  },
  {
   "cell_type": "code",
   "execution_count": null,
   "id": "2d328b40-4ffa-4331-84d2-6823347b24c1",
   "metadata": {},
   "outputs": [],
   "source": [
    "from mlxtend.plotting import plot_decision_regions\n"
   ]
  },
  {
   "cell_type": "code",
   "execution_count": null,
   "id": "24dfe336-3ffb-4a6e-81e4-b59df2586dde",
   "metadata": {},
   "outputs": [],
   "source": []
  },
  {
   "cell_type": "code",
   "execution_count": null,
   "id": "6bf2d3ee-73e7-4876-9035-c7f2eb9afaed",
   "metadata": {},
   "outputs": [],
   "source": []
  },
  {
   "cell_type": "code",
   "execution_count": null,
   "id": "8720ac72-c831-4e1b-b893-4aa197886d5c",
   "metadata": {},
   "outputs": [],
   "source": []
  },
  {
   "cell_type": "code",
   "execution_count": null,
   "id": "0ce54c1e-2043-4ed2-b1f7-fc694108d715",
   "metadata": {},
   "outputs": [],
   "source": []
  },
  {
   "cell_type": "code",
   "execution_count": null,
   "id": "73aa2a23-2895-4b59-816a-18fc439942b0",
   "metadata": {},
   "outputs": [],
   "source": []
  }
 ],
 "metadata": {
  "kernelspec": {
   "display_name": "Python 3 (ipykernel)",
   "language": "python",
   "name": "python3"
  },
  "language_info": {
   "codemirror_mode": {
    "name": "ipython",
    "version": 3
   },
   "file_extension": ".py",
   "mimetype": "text/x-python",
   "name": "python",
   "nbconvert_exporter": "python",
   "pygments_lexer": "ipython3",
   "version": "3.11.9"
  }
 },
 "nbformat": 4,
 "nbformat_minor": 5
}
